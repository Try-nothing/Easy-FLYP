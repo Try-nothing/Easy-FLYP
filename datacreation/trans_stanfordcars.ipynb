{
 "cells": [
  {
   "cell_type": "code",
   "execution_count": 16,
   "metadata": {},
   "outputs": [],
   "source": [
    "import os\n",
    "import sys\n",
    "import pandas as pd\n",
    "import argparse\n",
    "from scipy.io import loadmat\n",
    "import numpy as np\n",
    "from sklearn.model_selection import train_test_split\n",
    "import shutil\n",
    "\n",
    "sys.path.append('..')\n",
    "from cooked_datasets.templates.stanfordCars import final_classes, open_ai_classes, templates"
   ]
  },
  {
   "cell_type": "code",
   "execution_count": 41,
   "metadata": {},
   "outputs": [],
   "source": [
    "save_dir = '../cooked_datasets/data/StanfordCars'\n",
    "data_dir = '../orignal_datasets/StanfordCars'\n",
    "data_name = 'StanfordCars'"
   ]
  },
  {
   "cell_type": "code",
   "execution_count": 42,
   "metadata": {},
   "outputs": [],
   "source": [
    "# load class infomation from the cars_meta.mat file\n",
    "classes = loadmat(os.path.join(data_dir, 'devkit', 'cars_meta.mat'))\n",
    "# extract class names and replace spaces and underscores and slashe with hyphens\n",
    "classes = [a[0].replace(' ', '_').replace('/', '-') for a in classes['class_names'][0]]"
   ]
  },
  {
   "cell_type": "code",
   "execution_count": 43,
   "metadata": {},
   "outputs": [
    {
     "data": {
      "text/html": [
       "<div>\n",
       "<style scoped>\n",
       "    .dataframe tbody tr th:only-of-type {\n",
       "        vertical-align: middle;\n",
       "    }\n",
       "\n",
       "    .dataframe tbody tr th {\n",
       "        vertical-align: top;\n",
       "    }\n",
       "\n",
       "    .dataframe thead th {\n",
       "        text-align: right;\n",
       "    }\n",
       "</style>\n",
       "<table border=\"1\" class=\"dataframe\">\n",
       "  <thead>\n",
       "    <tr style=\"text-align: right;\">\n",
       "      <th></th>\n",
       "      <th>bbox_x1</th>\n",
       "      <th>bbox_y1</th>\n",
       "      <th>bbox_x2</th>\n",
       "      <th>bbox_y2</th>\n",
       "      <th>class</th>\n",
       "      <th>fname</th>\n",
       "    </tr>\n",
       "  </thead>\n",
       "  <tbody>\n",
       "    <tr>\n",
       "      <th>0</th>\n",
       "      <td>[[30]]</td>\n",
       "      <td>[[52]]</td>\n",
       "      <td>[[246]]</td>\n",
       "      <td>[[147]]</td>\n",
       "      <td>[[181]]</td>\n",
       "      <td>[00001.jpg]</td>\n",
       "    </tr>\n",
       "    <tr>\n",
       "      <th>1</th>\n",
       "      <td>[[100]]</td>\n",
       "      <td>[[19]]</td>\n",
       "      <td>[[576]]</td>\n",
       "      <td>[[203]]</td>\n",
       "      <td>[[103]]</td>\n",
       "      <td>[00002.jpg]</td>\n",
       "    </tr>\n",
       "    <tr>\n",
       "      <th>2</th>\n",
       "      <td>[[51]]</td>\n",
       "      <td>[[105]]</td>\n",
       "      <td>[[968]]</td>\n",
       "      <td>[[659]]</td>\n",
       "      <td>[[145]]</td>\n",
       "      <td>[00003.jpg]</td>\n",
       "    </tr>\n",
       "    <tr>\n",
       "      <th>3</th>\n",
       "      <td>[[67]]</td>\n",
       "      <td>[[84]]</td>\n",
       "      <td>[[581]]</td>\n",
       "      <td>[[407]]</td>\n",
       "      <td>[[187]]</td>\n",
       "      <td>[00004.jpg]</td>\n",
       "    </tr>\n",
       "    <tr>\n",
       "      <th>4</th>\n",
       "      <td>[[140]]</td>\n",
       "      <td>[[151]]</td>\n",
       "      <td>[[593]]</td>\n",
       "      <td>[[339]]</td>\n",
       "      <td>[[185]]</td>\n",
       "      <td>[00005.jpg]</td>\n",
       "    </tr>\n",
       "  </tbody>\n",
       "</table>\n",
       "</div>"
      ],
      "text/plain": [
       "   bbox_x1  bbox_y1  bbox_x2  bbox_y2    class        fname\n",
       "0   [[30]]   [[52]]  [[246]]  [[147]]  [[181]]  [00001.jpg]\n",
       "1  [[100]]   [[19]]  [[576]]  [[203]]  [[103]]  [00002.jpg]\n",
       "2   [[51]]  [[105]]  [[968]]  [[659]]  [[145]]  [00003.jpg]\n",
       "3   [[67]]   [[84]]  [[581]]  [[407]]  [[187]]  [00004.jpg]\n",
       "4  [[140]]  [[151]]  [[593]]  [[339]]  [[185]]  [00005.jpg]"
      ]
     },
     "execution_count": 43,
     "metadata": {},
     "output_type": "execute_result"
    }
   ],
   "source": [
    "# load test set annotations from the cars_test_annos_withlabels.mat file\n",
    "mapping = loadmat(os.path.join(data_dir, 'cars_test_annos_withlabels.mat'))\n",
    "# Convert annnotations to a pandas dataframe\n",
    "df = pd.DataFrame(np.hstack(mapping['annotations']))\n",
    "df.head()"
   ]
  },
  {
   "cell_type": "code",
   "execution_count": 44,
   "metadata": {},
   "outputs": [],
   "source": [
    "# Extract test file names\n",
    "X_test = [k[0] for k in list(df['fname'].to_numpy())]\n",
    "# Extract test labels\n",
    "y_test = [int(k[0][0]) for k in list(df['class'].to_numpy())]"
   ]
  },
  {
   "cell_type": "code",
   "execution_count": 45,
   "metadata": {},
   "outputs": [
    {
     "data": {
      "text/html": [
       "<div>\n",
       "<style scoped>\n",
       "    .dataframe tbody tr th:only-of-type {\n",
       "        vertical-align: middle;\n",
       "    }\n",
       "\n",
       "    .dataframe tbody tr th {\n",
       "        vertical-align: top;\n",
       "    }\n",
       "\n",
       "    .dataframe thead th {\n",
       "        text-align: right;\n",
       "    }\n",
       "</style>\n",
       "<table border=\"1\" class=\"dataframe\">\n",
       "  <thead>\n",
       "    <tr style=\"text-align: right;\">\n",
       "      <th></th>\n",
       "      <th>bbox_x1</th>\n",
       "      <th>bbox_y1</th>\n",
       "      <th>bbox_x2</th>\n",
       "      <th>bbox_y2</th>\n",
       "      <th>class</th>\n",
       "      <th>fname</th>\n",
       "    </tr>\n",
       "  </thead>\n",
       "  <tbody>\n",
       "    <tr>\n",
       "      <th>0</th>\n",
       "      <td>[[39]]</td>\n",
       "      <td>[[116]]</td>\n",
       "      <td>[[569]]</td>\n",
       "      <td>[[375]]</td>\n",
       "      <td>[[14]]</td>\n",
       "      <td>[00001.jpg]</td>\n",
       "    </tr>\n",
       "    <tr>\n",
       "      <th>1</th>\n",
       "      <td>[[36]]</td>\n",
       "      <td>[[116]]</td>\n",
       "      <td>[[868]]</td>\n",
       "      <td>[[587]]</td>\n",
       "      <td>[[3]]</td>\n",
       "      <td>[00002.jpg]</td>\n",
       "    </tr>\n",
       "    <tr>\n",
       "      <th>2</th>\n",
       "      <td>[[85]]</td>\n",
       "      <td>[[109]]</td>\n",
       "      <td>[[601]]</td>\n",
       "      <td>[[381]]</td>\n",
       "      <td>[[91]]</td>\n",
       "      <td>[00003.jpg]</td>\n",
       "    </tr>\n",
       "    <tr>\n",
       "      <th>3</th>\n",
       "      <td>[[621]]</td>\n",
       "      <td>[[393]]</td>\n",
       "      <td>[[1484]]</td>\n",
       "      <td>[[1096]]</td>\n",
       "      <td>[[134]]</td>\n",
       "      <td>[00004.jpg]</td>\n",
       "    </tr>\n",
       "    <tr>\n",
       "      <th>4</th>\n",
       "      <td>[[14]]</td>\n",
       "      <td>[[36]]</td>\n",
       "      <td>[[133]]</td>\n",
       "      <td>[[99]]</td>\n",
       "      <td>[[106]]</td>\n",
       "      <td>[00005.jpg]</td>\n",
       "    </tr>\n",
       "  </tbody>\n",
       "</table>\n",
       "</div>"
      ],
      "text/plain": [
       "   bbox_x1  bbox_y1   bbox_x2   bbox_y2    class        fname\n",
       "0   [[39]]  [[116]]   [[569]]   [[375]]   [[14]]  [00001.jpg]\n",
       "1   [[36]]  [[116]]   [[868]]   [[587]]    [[3]]  [00002.jpg]\n",
       "2   [[85]]  [[109]]   [[601]]   [[381]]   [[91]]  [00003.jpg]\n",
       "3  [[621]]  [[393]]  [[1484]]  [[1096]]  [[134]]  [00004.jpg]\n",
       "4   [[14]]   [[36]]   [[133]]    [[99]]  [[106]]  [00005.jpg]"
      ]
     },
     "execution_count": 45,
     "metadata": {},
     "output_type": "execute_result"
    }
   ],
   "source": [
    "# load training set annotations from the cars_train_annos.mat file\n",
    "mapping = loadmat(os.path.join(data_dir, 'devkit', 'cars_train_annos.mat'))\n",
    "# Convert annnotations to a pandas dataframe\n",
    "df = pd.DataFrame(np.hstack(mapping['annotations']))\n",
    "df.head()"
   ]
  },
  {
   "cell_type": "code",
   "execution_count": 46,
   "metadata": {},
   "outputs": [],
   "source": [
    "# Extract training file names\n",
    "all_train_files = [k[0] for k in list(df['fname'].to_numpy())]\n",
    "# Extract training labels\n",
    "all_train_labels = [int(k[0][0]) for k in list(df['class'].to_numpy())]"
   ]
  },
  {
   "cell_type": "code",
   "execution_count": 47,
   "metadata": {},
   "outputs": [],
   "source": [
    "# Split the training data into train and validation sets\n",
    "X_train, X_val, y_train, y_val = train_test_split(all_train_files, all_train_labels, test_size=0.2, random_state=10)"
   ]
  },
  {
   "cell_type": "code",
   "execution_count": 50,
   "metadata": {},
   "outputs": [],
   "source": [
    "# Create the data directory if it does not exist\n",
    "for typ in ['train', 'val', 'test']:\n",
    "    # remove existing directories for train, val and test sets\n",
    "    shutil.rmtree(os.path.join(data_dir, typ), ignore_errors=True, onerror=None)\n",
    "    # create class\n",
    "    for cls in classes:\n",
    "        # create subdirectories for each class with in train, val and test sets\n",
    "        os.makedirs(os.path.join(save_dir, typ, cls), exist_ok=True)"
   ]
  },
  {
   "cell_type": "code",
   "execution_count": 54,
   "metadata": {},
   "outputs": [],
   "source": [
    "# Copy files to the appropriate subdirectories\n",
    "for typ in ['train', 'val', 'test']:\n",
    "    if typ == 'train':\n",
    "        X = X_train\n",
    "        y = y_train\n",
    "        main_path = 'cars_train'\n",
    "    elif typ == 'val':\n",
    "        X = X_val\n",
    "        y = y_val\n",
    "        main_path = 'cars_train'\n",
    "    elif typ == 'test':\n",
    "        X = X_test\n",
    "        y = y_test\n",
    "        main_path = 'cars_test'\n",
    "\n",
    "    for i, file in enumerate(X):\n",
    "        # copy the file to the appropriate subdirectory\n",
    "        original_path = os.path.join(data_dir, main_path, file)\n",
    "        new_path = os.path.join(save_dir, typ, classes[y[i]-1], file)\n",
    "        shutil.copyfile(original_path, new_path)"
   ]
  },
  {
   "cell_type": "code",
   "execution_count": null,
   "metadata": {},
   "outputs": [],
   "source": []
  }
 ],
 "metadata": {
  "kernelspec": {
   "display_name": "ccpt",
   "language": "python",
   "name": "python3"
  },
  "language_info": {
   "codemirror_mode": {
    "name": "ipython",
    "version": 3
   },
   "file_extension": ".py",
   "mimetype": "text/x-python",
   "name": "python",
   "nbconvert_exporter": "python",
   "pygments_lexer": "ipython3",
   "version": "3.9.20"
  }
 },
 "nbformat": 4,
 "nbformat_minor": 2
}
